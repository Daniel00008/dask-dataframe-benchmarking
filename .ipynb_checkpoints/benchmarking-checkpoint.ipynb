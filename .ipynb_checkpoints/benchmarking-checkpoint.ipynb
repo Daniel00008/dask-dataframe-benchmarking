{
 "cells": [
  {
   "cell_type": "code",
   "execution_count": 1,
   "metadata": {},
   "outputs": [],
   "source": [
    "import dask.dataframe as ddf\n",
    "import time\n",
    "import pandas as pd"
   ]
  },
  {
   "cell_type": "code",
   "execution_count": 2,
   "metadata": {},
   "outputs": [],
   "source": [
    "df = ddf.read_csv('random_people.csv')"
   ]
  },
  {
   "cell_type": "code",
   "execution_count": null,
   "metadata": {},
   "outputs": [],
   "source": [
    "df.head(1)"
   ]
  },
  {
   "cell_type": "code",
   "execution_count": 3,
   "metadata": {},
   "outputs": [],
   "source": [
    "df['bonus'] = df['salary']*.5"
   ]
  },
  {
   "cell_type": "code",
   "execution_count": 4,
   "metadata": {},
   "outputs": [],
   "source": [
    "dfo = pd.read_csv('random_people.csv')"
   ]
  },
  {
   "cell_type": "code",
   "execution_count": null,
   "metadata": {},
   "outputs": [],
   "source": [
    "dfo['bonus'] = dfo['salary']*.5"
   ]
  },
  {
   "cell_type": "code",
   "execution_count": 5,
   "metadata": {},
   "outputs": [],
   "source": [
    "def benchmark(function, function_name):\n",
    "    start = time.time()\n",
    "    function()\n",
    "    end = time.time()\n",
    "    print(\"{0} seconds for {1}\".format((end - start), function_name))"
   ]
  },
  {
   "cell_type": "code",
   "execution_count": 6,
   "metadata": {},
   "outputs": [],
   "source": [
    "def get_bonus(df):\n",
    "    df['bonus'] = df['salary']*.5"
   ]
  },
  {
   "cell_type": "code",
   "execution_count": 7,
   "metadata": {},
   "outputs": [],
   "source": [
    "def test_1():\n",
    "    get_bonus(df)\n",
    "def test_2():\n",
    "    get_bonus(dfo)"
   ]
  },
  {
   "cell_type": "code",
   "execution_count": 8,
   "metadata": {},
   "outputs": [
    {
     "name": "stdout",
     "output_type": "stream",
     "text": [
      "0.00440096855164 seconds for dataframe nuevo\n",
      "0.00223088264465 seconds for dataframe viejo\n"
     ]
    }
   ],
   "source": [
    "benchmark(test_1, 'dataframe nuevo')\n",
    "benchmark(test_2, 'dataframe viejo')"
   ]
  },
  {
   "cell_type": "code",
   "execution_count": 11,
   "metadata": {},
   "outputs": [
    {
     "data": {
      "text/plain": [
       "(50, 5)"
      ]
     },
     "execution_count": 11,
     "metadata": {},
     "output_type": "execute_result"
    }
   ],
   "source": [
    "dfo.shape"
   ]
  },
  {
   "cell_type": "code",
   "execution_count": 13,
   "metadata": {},
   "outputs": [],
   "source": [
    "df2 = pd.concat([dfo for _ in range(1000)])\n",
    "\n",
    "df3 = pd.concat([df2 for _ in range(500)])"
   ]
  },
  {
   "cell_type": "code",
   "execution_count": 20,
   "metadata": {},
   "outputs": [],
   "source": [
    "dfn = ddf.from_pandas(df3, npartitions=6)"
   ]
  },
  {
   "cell_type": "code",
   "execution_count": null,
   "metadata": {},
   "outputs": [],
   "source": [
    "del df3"
   ]
  },
  {
   "cell_type": "code",
   "execution_count": null,
   "metadata": {},
   "outputs": [],
   "source": [
    "df2['bonus'] = df2['salary']*.5"
   ]
  },
  {
   "cell_type": "code",
   "execution_count": 21,
   "metadata": {},
   "outputs": [],
   "source": [
    "def test_big():\n",
    "    get_bonus(dfn)\n",
    "def test_big_old():\n",
    "    get_bonus(df3)\n",
    "\n",
    "def get_big_mean():\n",
    "    return dfn.salary.mean()\n",
    "def get_big_mean_old():\n",
    "    return df3.salary.mean()\n",
    "\n",
    "def get_big_max():\n",
    "    return dfn.salary.max()\n",
    "def get_big_max_old():\n",
    "    return df3.salary.max()\n",
    "\n",
    "def get_big_sum():\n",
    "    return dfn.salary.max()\n",
    "def get_big_sum_old():\n",
    "    return df3.salary.max()\n",
    "\n",
    "def filter_df():\n",
    "    df = dfn[dfn['salary']>5000]\n",
    "def filter_df_old():\n",
    "    df = df3[df3['salary']>5000]\n",
    "    \n",
    "def run_benchmarks():\n",
    "    for i,f in enumerate([test_big, test_big_old,\n",
    "                          get_big_mean, get_big_mean_old,\n",
    "                          get_big_max, get_big_max_old,\n",
    "                          get_big_sum, get_big_sum_old,\n",
    "                          filter_df,filter_df_old]):\n",
    "        benchmark(f, f.__name__)"
   ]
  },
  {
   "cell_type": "code",
   "execution_count": 22,
   "metadata": {},
   "outputs": [],
   "source": [
    "def f(x):\n",
    "    return (13*x+5)%7\n",
    "\n",
    "def apply_random_old():\n",
    "    df3['random']= df3['salary'].apply(f)\n",
    "    \n",
    "def apply_random():\n",
    "    dfn['random']= dfn['salary'].apply(f)"
   ]
  },
  {
   "cell_type": "code",
   "execution_count": 23,
   "metadata": {},
   "outputs": [
    {
     "name": "stdout",
     "output_type": "stream",
     "text": [
      "0.67996096611 seconds for bigtest_big\n",
      "5.67131209373 seconds for bigtest_big_old\n",
      "8.63368606567 seconds for bigget_big_mean\n",
      "0.293563127518 seconds for bigget_big_mean_old\n",
      "0.0645699501038 seconds for bigget_big_max\n",
      "0.285101890564 seconds for bigget_big_max_old\n",
      "0.00136804580688 seconds for bigget_big_sum\n",
      "0.285794019699 seconds for bigget_big_sum_old\n",
      "1.75679898262 seconds for bigfilter_df\n",
      "60.6916968822 seconds for bigfilter_df_old\n",
      "78.7503149509 seconds for bigapply_random_old\n"
     ]
    },
    {
     "name": "stderr",
     "output_type": "stream",
     "text": [
      "/usr/local/lib/python2.7/dist-packages/dask/dataframe/core.py:2165: UserWarning: `meta` is not specified, inferred from partial data. Please provide `meta` if the result is unexpected.\n",
      "  Before: .apply(func)\n",
      "  After:  .apply(func, meta={'x': 'f8', 'y': 'f8'}) for dataframe result\n",
      "  or:     .apply(func, meta=('x', 'f8'))            for series result\n",
      "  warnings.warn(msg)\n"
     ]
    },
    {
     "name": "stdout",
     "output_type": "stream",
     "text": [
      "11.019559145 seconds for bigapply_random\n"
     ]
    }
   ],
   "source": [
    "run_benchmarks()\n",
    "benchmark(apply_random_old, apply_random_old.__name__)\n",
    "benchmark(apply_random, apply_random.__name__)"
   ]
  },
  {
   "cell_type": "code",
   "execution_count": null,
   "metadata": {},
   "outputs": [],
   "source": []
  }
 ],
 "metadata": {
  "kernelspec": {
   "display_name": "Python 2",
   "language": "python",
   "name": "python2"
  },
  "language_info": {
   "codemirror_mode": {
    "name": "ipython",
    "version": 2
   },
   "file_extension": ".py",
   "mimetype": "text/x-python",
   "name": "python",
   "nbconvert_exporter": "python",
   "pygments_lexer": "ipython2",
   "version": "2.7.12"
  }
 },
 "nbformat": 4,
 "nbformat_minor": 2
}
